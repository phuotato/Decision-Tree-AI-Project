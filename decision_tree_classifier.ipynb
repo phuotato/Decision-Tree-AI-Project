{
 "cells": [
  {
   "cell_type": "markdown",
   "metadata": {},
   "source": [
    "# Binary class dataset: The UCI Breast Cancer Wisconsin (Diagnostic) dataset"
   ]
  },
  {
   "cell_type": "markdown",
   "metadata": {},
   "source": [
    "##  Preparing the datasets\n"
   ]
  },
  {
   "cell_type": "markdown",
   "metadata": {},
   "source": [
    "### Load the Data"
   ]
  },
  {
   "cell_type": "code",
   "execution_count": 1,
   "metadata": {},
   "outputs": [
    {
     "name": "stdout",
     "output_type": "stream",
     "text": [
      "         ID Diagnosis  Radius_Mean  Texture_Mean  Perimeter_Mean  Area_Mean  \\\n",
      "0    842302         M        17.99         10.38          122.80     1001.0   \n",
      "1    842517         M        20.57         17.77          132.90     1326.0   \n",
      "2  84300903         M        19.69         21.25          130.00     1203.0   \n",
      "3  84348301         M        11.42         20.38           77.58      386.1   \n",
      "4  84358402         M        20.29         14.34          135.10     1297.0   \n",
      "\n",
      "   Smoothness_Mean  Compactness_Mean  Concavity_Mean  Concave_Points_Mean  \\\n",
      "0          0.11840           0.27760          0.3001              0.14710   \n",
      "1          0.08474           0.07864          0.0869              0.07017   \n",
      "2          0.10960           0.15990          0.1974              0.12790   \n",
      "3          0.14250           0.28390          0.2414              0.10520   \n",
      "4          0.10030           0.13280          0.1980              0.10430   \n",
      "\n",
      "   ...  Radius_Worst  Texture_Worst  Perimeter_Worst  Area_Worst  \\\n",
      "0  ...         25.38          17.33           184.60      2019.0   \n",
      "1  ...         24.99          23.41           158.80      1956.0   \n",
      "2  ...         23.57          25.53           152.50      1709.0   \n",
      "3  ...         14.91          26.50            98.87       567.7   \n",
      "4  ...         22.54          16.67           152.20      1575.0   \n",
      "\n",
      "   Smoothness_Worst  Compactness_Worst  Concavity_Worst  Concave_Points_Worst  \\\n",
      "0            0.1622             0.6656           0.7119                0.2654   \n",
      "1            0.1238             0.1866           0.2416                0.1860   \n",
      "2            0.1444             0.4245           0.4504                0.2430   \n",
      "3            0.2098             0.8663           0.6869                0.2575   \n",
      "4            0.1374             0.2050           0.4000                0.1625   \n",
      "\n",
      "   Symmetry_Worst  Fractal_Dimension_Worst  \n",
      "0          0.4601                  0.11890  \n",
      "1          0.2750                  0.08902  \n",
      "2          0.3613                  0.08758  \n",
      "3          0.6638                  0.17300  \n",
      "4          0.2364                  0.07678  \n",
      "\n",
      "[5 rows x 32 columns]\n"
     ]
    }
   ],
   "source": [
    "import pandas as pd\n",
    "\n",
    "columns = [\n",
    "    \"ID\", \"Diagnosis\",\n",
    "    \"Radius_Mean\", \"Texture_Mean\", \"Perimeter_Mean\", \"Area_Mean\", \"Smoothness_Mean\",\n",
    "    \"Compactness_Mean\", \"Concavity_Mean\", \"Concave_Points_Mean\", \"Symmetry_Mean\", \"Fractal_Dimension_Mean\",\n",
    "    \"Radius_SE\", \"Texture_SE\", \"Perimeter_SE\", \"Area_SE\", \"Smoothness_SE\",\n",
    "    \"Compactness_SE\", \"Concavity_SE\", \"Concave_Points_SE\", \"Symmetry_SE\", \"Fractal_Dimension_SE\",\n",
    "    \"Radius_Worst\", \"Texture_Worst\", \"Perimeter_Worst\", \"Area_Worst\", \"Smoothness_Worst\",\n",
    "    \"Compactness_Worst\", \"Concavity_Worst\", \"Concave_Points_Worst\", \"Symmetry_Worst\", \"Fractal_Dimension_Worst\"\n",
    "]\n",
    "\n",
    "file_path = \"data/wdbc.data\" \n",
    "data = pd.read_csv(file_path, header=None, names=columns)\n",
    "\n",
    "# Preview \n",
    "print(data.head())\n"
   ]
  },
  {
   "cell_type": "markdown",
   "metadata": {},
   "source": [
    "### Preprocess the Data\n",
    "Remove the ID column (not useful for classification)\n",
    "\n",
    "Encode the Diagnosis column:\n",
    "- M (malignant) → 1\n",
    "- B (benign) → 0\n",
    "\n",
    "Separate features and labels"
   ]
  },
  {
   "cell_type": "code",
   "execution_count": 2,
   "metadata": {},
   "outputs": [],
   "source": [
    "# Remove ID column\n",
    "data = data.drop(columns=[\"ID\"])\n",
    "\n",
    "# Encode Diagnosis column\n",
    "data[\"Diagnosis\"] = data[\"Diagnosis\"].map({\"M\": 1, \"B\": 0})\n",
    "\n",
    "# Separate features and labels\n",
    "features = data.drop(columns=[\"Diagnosis\"]).values\n",
    "labels = data[\"Diagnosis\"].values\n"
   ]
  },
  {
   "cell_type": "markdown",
   "metadata": {},
   "source": [
    "### Shuffle and Split the Dataset"
   ]
  },
  {
   "cell_type": "code",
   "execution_count": null,
   "metadata": {},
   "outputs": [],
   "source": [
    "from sklearn.model_selection import train_test_split\n",
    "\n",
    "# Splits and stratification\n",
    "proportions = [0.4, 0.6, 0.8, 0.9]\n",
    "splits = {}\n",
    "for prop in proportions:\n",
    "    X_train, X_test, y_train, y_test = train_test_split(\n",
    "        features, labels, train_size=prop, stratify=labels, random_state=42\n",
    "    )\n",
    "    splits[f\"{int(prop*100)}_{int((1-prop)*100)}\"] = (X_train, X_test, y_train, y_test)\n"
   ]
  },
  {
   "cell_type": "markdown",
   "metadata": {},
   "source": [
    "### Visualize Class Distributions"
   ]
  },
  {
   "cell_type": "code",
   "execution_count": null,
   "metadata": {},
   "outputs": [],
   "source": [
    "import numpy as np\n",
    "import matplotlib.pyplot as plt\n",
    "\n",
    "def plot_distribution(title, data_labels):\n",
    "    unique, counts = np.unique(data_labels, return_counts=True)\n",
    "    plt.bar([\"Benign\", \"Malignant\"], counts, color=[\"skyblue\", \"salmon\"])\n",
    "    plt.title(title)\n",
    "    plt.xlabel(\"Classes\")\n",
    "    plt.ylabel(\"Counts\")\n",
    "    plt.show()\n",
    "\n",
    "# Original dataset\n",
    "plot_distribution(\"Original Dataset\", labels)\n",
    "\n",
    "# Plot distributions for each split\n",
    "for key, (X_train, X_test, y_train, y_test) in splits.items():\n",
    "    plot_distribution(f\"Training Set {key}\", y_train)\n",
    "    plot_distribution(f\"Test Set {key}\", y_test)\n"
   ]
  }
 ],
 "metadata": {
  "kernelspec": {
   "display_name": "Python 3 (ipykernel)",
   "language": "python",
   "name": "python3"
  },
  "language_info": {
   "codemirror_mode": {
    "name": "ipython",
    "version": 3
   },
   "file_extension": ".py",
   "mimetype": "text/x-python",
   "name": "python",
   "nbconvert_exporter": "python",
   "pygments_lexer": "ipython3",
   "version": "3.12.1"
  }
 },
 "nbformat": 4,
 "nbformat_minor": 2
}
